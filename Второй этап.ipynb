{
 "cells": [
  {
   "cell_type": "code",
   "execution_count": 10,
   "id": "4f272fe9-ac65-4bc2-a2aa-6fc3dd597dcd",
   "metadata": {},
   "outputs": [],
   "source": [
    "import pandas as pd\n",
    "import requests\n",
    "\n",
    "# устанавливаем даты\n",
    "start_date = \"2023-03-01\"\n",
    "end_date = \"2023-09-01\"\n",
    "# делаем две ссылки\n",
    "visit_url = (\n",
    "    f\"https://data-charts-api.hexlet.app/visits?begin={start_date}&end={end_date}\"\n",
    ")\n",
    "reg_url = f\"https://data-charts-api.hexlet.app/registrations?begin={start_date}&end={end_date}\"\n",
    "# теперь тянем визиты и регистрации\n",
    "visits = requests.get(visit_url)\n",
    "registrations = requests.get(reg_url)\n",
    "# Получаем данные в формате JSON\n",
    "visits = visits.json()\n",
    "registrations = registrations.json()\n",
    "# конвертирируем в датафрейм\n",
    "# registrations = pd.DataFrame(registrations)\n",
    "# visits = pd.DataFrame(visits)\n",
    "# сохраняем json\n",
    "#visits.to_json(\"./visits.json\")\n",
    "# registrations.to_json(\"./registrations.json\")\n"
   ]
  },
  {
   "cell_type": "code",
   "execution_count": null,
   "id": "2871a7b8-88f5-4470-bbea-6deb2810bc00",
   "metadata": {},
   "outputs": [],
   "source": []
  }
 ],
 "metadata": {
  "kernelspec": {
   "display_name": "Python [conda env:base] *",
   "language": "python",
   "name": "conda-base-py"
  },
  "language_info": {
   "codemirror_mode": {
    "name": "ipython",
    "version": 3
   },
   "file_extension": ".py",
   "mimetype": "text/x-python",
   "name": "python",
   "nbconvert_exporter": "python",
   "pygments_lexer": "ipython3",
   "version": "3.12.7"
  }
 },
 "nbformat": 4,
 "nbformat_minor": 5
}
