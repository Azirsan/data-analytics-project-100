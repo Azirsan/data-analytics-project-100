{
 "cells": [
  {
   "cell_type": "code",
   "execution_count": 23,
   "id": "43a4b64f-1028-4e7b-b733-c9b7022d30b9",
   "metadata": {},
   "outputs": [
    {
     "name": "stderr",
     "output_type": "stream",
     "text": [
      "C:\\Users\\Asus\\AppData\\Local\\Temp\\ipykernel_24188\\280541344.py:24: SettingWithCopyWarning: \n",
      "A value is trying to be set on a copy of a slice from a DataFrame.\n",
      "Try using .loc[row_indexer,col_indexer] = value instead\n",
      "\n",
      "See the caveats in the documentation: https://pandas.pydata.org/pandas-docs/stable/user_guide/indexing.html#returning-a-view-versus-a-copy\n",
      "  filtered_visits['datetime'] = pd.to_datetime(filtered_visits['datetime'])\n"
     ]
    }
   ],
   "source": [
    "import pandas as pd\n",
    "import requests\n",
    "\n",
    "# устанавливаем даты\n",
    "start_date = \"2023-03-01\"\n",
    "end_date = \"2023-09-01\"\n",
    "# делаем две ссылки\n",
    "visit_url = (\n",
    "    f\"https://data-charts-api.hexlet.app/visits?begin={start_date}&end={end_date}\"\n",
    ")\n",
    "reg_url = f\"https://data-charts-api.hexlet.app/registrations?begin={start_date}&end={end_date}\"\n",
    "# теперь тянем визиты и регистрации\n",
    "visits = requests.get(visit_url)\n",
    "registrations = requests.get(reg_url)\n",
    "# Получаем данные в формате JSON\n",
    "visits = visits.json()\n",
    "registrations = registrations.json()\n",
    "# конвертирируем в датафрейм\n",
    "registrations = pd.DataFrame(registrations)\n",
    "visits = pd.DataFrame(visits)\n",
    "# убираем ботов\n",
    "filtered_visits = visits[\n",
    "    ~visits[\"user_agent\"].str.contains(\"bot\", case=False, na=False)\n",
    "]\n",
    "# конвертируем в дату\n",
    "filtered_visits[\"datetime\"] = pd.to_datetime(filtered_visits[\"datetime\"])\n",
    "# конвертируем в дату\n",
    "registrations[\"datetime\"] = pd.to_datetime(registrations[\"datetime\"])\n",
    "# сортируем и берем последний визит\n",
    "filtered_visits = filtered_visits.sort_values(by=[\"visit_id\", \"datetime\"])\n",
    "last_visit = filtered_visits.groupby(\"visit_id\").last().reset_index()\n",
    "# группируем по датам (преобразуем) и платформам\n",
    "last_visit[\"date_group\"] = last_visit[\"datetime\"].dt.date\n",
    "df_visit = (\n",
    "    last_visit.groupby([\"platform\", \"date_group\"]).size().reset_index(name=\"visits\")\n",
    ")\n",
    "# регистрации по датам (преобразуем) и платформам\n",
    "registrations[\"date_group\"] = registrations[\"datetime\"].dt.date\n",
    "df_reg = (\n",
    "    registrations.groupby([\"platform\", \"date_group\"])\n",
    "    .size()\n",
    "    .reset_index(name=\"registrations\")\n",
    ")\n",
    "df = pd.merge(df_visit, df_reg, on=[\"platform\", \"date_group\"], how=\"outer\").fillna(0)\n",
    "df[\"conversion\"] = 100 * df[\"registrations\"] / df[\"visits\"]\n",
    "df = df.sort_values(by=[\"date_group\"])\n",
    "df = df[[\"date_group\", \"platform\", \"visits\", \"registrations\", \"conversion\"]]\n",
    "df.to_json(\"./conversion.json\")\n"
   ]
  },
  {
   "cell_type": "code",
   "execution_count": null,
   "id": "92d17174-3cdf-4b3d-95c5-d64749c352b7",
   "metadata": {},
   "outputs": [],
   "source": []
  }
 ],
 "metadata": {
  "kernelspec": {
   "display_name": "Python [conda env:base] *",
   "language": "python",
   "name": "conda-base-py"
  },
  "language_info": {
   "codemirror_mode": {
    "name": "ipython",
    "version": 3
   },
   "file_extension": ".py",
   "mimetype": "text/x-python",
   "name": "python",
   "nbconvert_exporter": "python",
   "pygments_lexer": "ipython3",
   "version": "3.12.7"
  }
 },
 "nbformat": 4,
 "nbformat_minor": 5
}
